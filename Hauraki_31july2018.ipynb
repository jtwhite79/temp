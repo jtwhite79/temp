{
 "cells": [
  {
   "cell_type": "markdown",
   "metadata": {},
   "source": [
    "<img src=\"borat.png\" alt=\"Alt text that describes the graphic\" title=\"Title text\" />\n",
    "***\n",
    "***\n",
    "# Studying the ``Layering`` simplificiation with the Hauraki case study: \n",
    "# Reduced layering as a simplification\n",
    "\n",
    "## benefits include:\n",
    ">### - less run time\n",
    ">### - fewer unknowns\n",
    ">### - easier model construction\n",
    "\n",
    "## but how does this affect predictive results?\n",
    ">### here we focus only on water quality outputs..."
   ]
  },
  {
   "cell_type": "code",
   "execution_count": null,
   "metadata": {},
   "outputs": [],
   "source": [
    "from __future__ import print_function\n",
    "import os\n",
    "import ipywidgets as ipyw\n",
    "import matplotlib as mpl\n",
    "import matplotlib.pyplot as plt\n",
    "import ipyleaflet as ipyl\n",
    "import IPython\n",
    "import warnings\n",
    "warnings.filterwarnings(\"ignore\")\n",
    "import json\n",
    "from json import dumps\n",
    "import numpy as np\n",
    "import pandas as pd\n",
    "import flopy\n",
    "d = \"31july2018_data\""
   ]
  },
  {
   "cell_type": "code",
   "execution_count": null,
   "metadata": {},
   "outputs": [],
   "source": [
    "rowcols = [\"62_23\",\"53_39\",\"106_48\",\"09_24\",\"12_20\",\"16_10\"]\n",
    "line = {\"column\":26}\n",
    "with open(os.path.join(d,\"sire_sfr.json\"),\"r\") as f:\n",
    "    sfr_data = json.load(f)\n",
    "with open(os.path.join(d,\"sire_grid.json\"),\"r\") as f:\n",
    "    ucn_data = json.load(f)   \n",
    "for i,feature in enumerate(ucn_data[\"features\"]):\n",
    "    #print(feature)\n",
    "    rc = \"{0:02d}_{1:02d}\".format(feature[\"properties\"][\"row\"],feature[\"properties\"][\"column\"])\n",
    "    #print(rc)\n",
    "    #break\n",
    "    color = \"#676565\"\n",
    "    fo = 0.01\n",
    "    if rc in rowcols:\n",
    "        color = \"#FF0000\"\n",
    "        fo = 1.0\n",
    "    elif feature[\"properties\"][\"column\"] == line[\"column\"]:\n",
    "        color = \"#0000FF\"\n",
    "        fo = 1.0\n",
    "    ucn_data[\"features\"][i][\"properties\"][\"style\"][\"fillColor\"] = color\n",
    "    ucn_data[\"features\"][i][\"properties\"][\"style\"][\"color\"] = color\n",
    "    ucn_data[\"features\"][i][\"properties\"][\"style\"][\"weight\"] = 2.0\n",
    "    ucn_data[\"features\"][i][\"properties\"][\"style\"][\"fillOpacity\"] = fo\n",
    "    \n",
    "    \n",
    "map = ipyl.Map(center=[-37.65,175.65], zoom=10,layout=ipyw.Layout(height=\"10in\",width=\"6in\"))\n",
    "geo = ipyl.GeoJSON(data=ucn_data)\n",
    "map.add_layer(geo) \n",
    "geo = ipyl.GeoJSON(data=sfr_data)\n",
    "map.add_layer(geo)"
   ]
  },
  {
   "cell_type": "markdown",
   "metadata": {},
   "source": [
    "## Quantities of interest:\n",
    ">### - load (kg) to Firth\n",
    ">### - SW concentration Piako near Morrinsville\n",
    ">### - SW concentration Waihou near Waihou\n",
    ">### - SW concentration near Blue Spring"
   ]
  },
  {
   "cell_type": "code",
   "execution_count": null,
   "metadata": {},
   "outputs": [],
   "source": [
    "map"
   ]
  },
  {
   "cell_type": "markdown",
   "metadata": {},
   "source": [
    "# Approach: chop off the bottom of the Hauraki 7-layer model and form a 1-layer model out of remaining layers:"
   ]
  },
  {
   "cell_type": "code",
   "execution_count": null,
   "metadata": {},
   "outputs": [],
   "source": [
    "\n",
    "m = flopy.modflow.Modflow.load(\"BH.nam\",model_ws=\"31july2018_data\",load_only=[],check=False)\n",
    "fig = plt.figure(figsize=(20,20))\n",
    "ax1 = plt.subplot(211)\n",
    "ax1.set_title(\"7-layer cross section\")\n",
    "xs = flopy.plot.ModelCrossSection(model=m,line=line,ax=ax1)\n",
    "arr = m.dis.botm.array\n",
    "arr[m.bas6.ibound.array==0] = 1.0E+10\n",
    "xs.plot_array(arr,masked_values=[1.0e+10]);\n",
    "ax2 = plt.subplot(212)\n",
    "ax2.set_title(\"1-layer cross section\")\n",
    "arr[4:,:,:] = 1.0e+10\n",
    "for k in range(4):\n",
    "    arr[k,:,:] = m.dis.botm[3].array\n",
    "arr[m.bas6.ibound.array==0] = 1.0e+10\n",
    "xs = flopy.plot.ModelCrossSection(model=m,line=line,ax=ax2)\n",
    "xs.plot_array(arr,masked_values=[1.0e+10]);"
   ]
  },
  {
   "cell_type": "markdown",
   "metadata": {},
   "source": [
    "# History matching and uncertainty quantification\n",
    "\n",
    "## parameterization \n",
    "### both models used a combined parameterization approach for spatially-distributed properties:\n",
    ">#### - zones based on a geologic model for the Hauraki plains\n",
    ">#### - grid-scale multipliers to account for cell-by-cell variatbility\n",
    ">#### - 7-layer model: 140K parameters, 1-layer model: 30K parameters\n",
    "\n",
    "## Both models matched to GW levels, SW fluxes, GW N concentrations, GW Tr concentrations\n",
    ">#### - the iterative ensemble smoother ``pestpp-ies`` was used for history matching"
   ]
  },
  {
   "cell_type": "code",
   "execution_count": null,
   "metadata": {},
   "outputs": [],
   "source": [
    "IPython.display.IFrame(os.path.join(\"31july2018_data\",\"7layer_1to1.pdf\"), width=1000, height=400)"
   ]
  },
  {
   "cell_type": "code",
   "execution_count": null,
   "metadata": {},
   "outputs": [],
   "source": [
    "IPython.display.IFrame(os.path.join(\"31july2018_data\",\"1layer_1to1.pdf\"), width=1000, height=400)"
   ]
  },
  {
   "cell_type": "markdown",
   "metadata": {},
   "source": [
    "### Ruh-Roh:  what happened to the ``Tr`` observations...foreshadowing???\n"
   ]
  },
  {
   "cell_type": "markdown",
   "metadata": {},
   "source": [
    "# predictive scenarios\n",
    "\n",
    "## 4 scenarios: starting with simulated current (2018) nitrate concentrations, run forward 10 years:\n",
    ">### - ``base``: current N loading and GW abstraction\n",
    ">### - ``10kg``: 10% reduction in N loading\n",
    ">### - ``20kg``: 20% reduction in N loading\n",
    "\n",
    "## _Important_: we are talking about stochastics, so each scenario involves running the model 100 times (once for each realization).  Each of the 100 realizations has its own history-matched parameters, including initial nitrate concentrations from end of the history matching.\n",
    "\n",
    "## _Important_: we are talking about Bayesian concepts, so each scenario has 100 \"prior\" realizations and 100 \"posterior\" realizations.  It is important to understand how the model's predictive ability has changed through history matching.  \n",
    "\n",
    "## _Summing it all up_: each scenario plot has 4 distributions: prior and posterior for 7-layer and 1-layer models.  Confused yet?"
   ]
  },
  {
   "cell_type": "markdown",
   "metadata": {},
   "source": [
    "# Firth:\n",
    "## green: 7 layer; blue: 1 layer; hatched: prior; solid: posterior"
   ]
  },
  {
   "cell_type": "code",
   "execution_count": null,
   "metadata": {},
   "outputs": [],
   "source": [
    "IPython.display.IFrame(os.path.join(\"31july2018_data\",\"daily_flux_to_Firth_after_10yrs.pdf\"), width=1000, height=1000)"
   ]
  },
  {
   "cell_type": "markdown",
   "metadata": {},
   "source": [
    "## Comments:\n",
    ">#### - 1-layer model prior includes some extreme values compared to the 7-layer model\n",
    ">#### - history matching pushes these extreme values closer to the 7-layer results\n",
    ">#### - the posterior 1-layer distribtion is centered on higher values compared to the 7-layer model\n",
    ">#### - history matching didn't change the central tendency of the 7-layer model, only increased our confidence in the central tendacy"
   ]
  },
  {
   "cell_type": "code",
   "execution_count": null,
   "metadata": {
    "scrolled": true
   },
   "outputs": [],
   "source": [
    "IPython.display.IFrame(os.path.join(\"31july2018_data\",\"daily_flux_to_Firth_after_10yrs_diff.pdf\"), width=1000, height=1000)"
   ]
  },
  {
   "cell_type": "markdown",
   "metadata": {},
   "source": [
    "## Comments\n",
    ">#### - In general, the difference results are similar to the absolute results"
   ]
  },
  {
   "cell_type": "markdown",
   "metadata": {},
   "source": [
    "# Blue Spring\n",
    "## green: 7 layer; blue: 1 layer; hatched: prior; solid: posterior"
   ]
  },
  {
   "cell_type": "code",
   "execution_count": null,
   "metadata": {},
   "outputs": [],
   "source": [
    "IPython.display.IFrame(os.path.join(\"31july2018_data\",\"SW_nitrate_concen_at_blue_spring_after_10yrs.pdf\"), width=1000, height=1000)"
   ]
  },
  {
   "cell_type": "markdown",
   "metadata": {},
   "source": [
    "## Comments:\n",
    ">#### - both the 7-layer and 1-layer priors are skewed heavily towards very low concetrations\n",
    ">#### - the 7-layer posterior distribution is in the range of plausible concentrations at blue springs\n",
    ">#### - the 1-layer posterior distribution is very tightly clustered around 0.0 mg/l #frowny_face"
   ]
  },
  {
   "cell_type": "code",
   "execution_count": null,
   "metadata": {
    "scrolled": true
   },
   "outputs": [],
   "source": [
    "IPython.display.IFrame(os.path.join(\"31july2018_data\",\"SW_nitrate_concen_at_blue_spring_after_10yrs_diff.pdf\"), width=1000, height=1000)"
   ]
  },
  {
   "cell_type": "markdown",
   "metadata": {},
   "source": [
    "## Comments:\n",
    ">#### - blahblahblah"
   ]
  },
  {
   "cell_type": "markdown",
   "metadata": {},
   "source": [
    "# Piako near Morrinsville\n",
    "## green: 7 layer; blue: 1 layer; hatched: prior; solid: posterior"
   ]
  },
  {
   "cell_type": "code",
   "execution_count": null,
   "metadata": {},
   "outputs": [],
   "source": [
    "IPython.display.IFrame(os.path.join(\"31july2018_data\",\"SW_nitrate_concen_at_Piako_near_Morrinsville_after_10yrs.pdf\"), width=1000, height=1000)"
   ]
  },
  {
   "cell_type": "markdown",
   "metadata": {},
   "source": [
    "## Comments:\n",
    ">#### - the 1-layer and 7-layer posteriors are nearly commensurate\n",
    ">#### - history matching has pushed both models to substantially higher concentrations\n",
    ">#### - I think these concentrations are too high...\n",
    ">#### - the 1-layer prior is much wider than the 7-layer"
   ]
  },
  {
   "cell_type": "code",
   "execution_count": null,
   "metadata": {},
   "outputs": [],
   "source": [
    "IPython.display.IFrame(os.path.join(\"31july2018_data\",\"SW_nitrate_concen_at_Piako_near_Morrinsville_after_10yrs_diff.pdf\"), width=1000, height=1000)"
   ]
  },
  {
   "cell_type": "markdown",
   "metadata": {},
   "source": [
    "## Comments\n",
    ">#### - the 1-layer model is underestimating the results concentration change compared to the 7-layer model"
   ]
  },
  {
   "cell_type": "markdown",
   "metadata": {},
   "source": [
    "# Waihou near Waihou\n",
    "## green: 7 layer; blue: 1 layer; hatched: prior; solid: posterior"
   ]
  },
  {
   "cell_type": "code",
   "execution_count": null,
   "metadata": {},
   "outputs": [],
   "source": [
    "IPython.display.IFrame(os.path.join(\"31july2018_data\",\"SW_nitrate_concen_at_Waihou_near_Waihou_after_10yrs.pdf\"), width=1000, height=1000)"
   ]
  },
  {
   "cell_type": "markdown",
   "metadata": {},
   "source": [
    "## Comments\n",
    ">#### - history matching has pushed the posterior distributions higher (as with the Piako)\n",
    ">#### - the 1-layer prior is much wider than the 7-layer\n",
    ">#### - the 7-layer posterior is centered on a slightly higher value than the 1-layer"
   ]
  },
  {
   "cell_type": "code",
   "execution_count": null,
   "metadata": {},
   "outputs": [],
   "source": [
    "IPython.display.IFrame(os.path.join(\"31july2018_data\",\"SW_nitrate_concen_at_Waihou_near_Waihou_after_10yrs_diff.pdf\"), width=1000, height=1000)"
   ]
  },
  {
   "cell_type": "markdown",
   "metadata": {},
   "source": [
    "## Comments:\n",
    ">#### - the posterior distributions of both the 1-layer and 7-layer models are commensurate!"
   ]
  },
  {
   "cell_type": "code",
   "execution_count": null,
   "metadata": {},
   "outputs": [],
   "source": []
  }
 ],
 "metadata": {
  "kernelspec": {
   "display_name": "Python 3",
   "language": "python",
   "name": "python3"
  },
  "language_info": {
   "codemirror_mode": {
    "name": "ipython",
    "version": 3
   },
   "file_extension": ".py",
   "mimetype": "text/x-python",
   "name": "python",
   "nbconvert_exporter": "python",
   "pygments_lexer": "ipython3",
   "version": "3.5.4"
  }
 },
 "nbformat": 4,
 "nbformat_minor": 2
}
